{
 "cells": [
  {
   "cell_type": "code",
   "execution_count": 2,
   "id": "durable-administration",
   "metadata": {
    "_cell_guid": "b1076dfc-b9ad-4769-8c92-a6c4dae69d19",
    "_uuid": "8f2839f25d086af736a60e9eeb907d3b93b6e0e5",
    "execution": {
     "iopub.execute_input": "2021-06-20T20:40:36.510456Z",
     "iopub.status.busy": "2021-06-20T20:40:36.509572Z",
     "iopub.status.idle": "2021-06-20T20:40:36.515893Z",
     "shell.execute_reply": "2021-06-20T20:40:36.515266Z",
     "shell.execute_reply.started": "2021-06-20T18:32:47.547328Z"
    },
    "papermill": {
     "duration": 0.045824,
     "end_time": "2021-06-20T20:40:36.516102",
     "exception": false,
     "start_time": "2021-06-20T20:40:36.470278",
     "status": "completed"
    },
    "tags": []
   },
   "outputs": [],
   "source": [
    "import numpy as np # linear algebra\n",
    "import pandas as pd # data processing, CSV file I/O (e.g. pd.read_csv)\n",
    "\n",
    "import os\n",
    "for dirname, _, filenames in os.walk('/kaggle/input'):\n",
    "    for filename in filenames:\n",
    "        print(os.path.join(dirname, filename))\n"
   ]
  },
  {
   "cell_type": "code",
   "execution_count": 4,
   "id": "affecting-syndrome",
   "metadata": {
    "execution": {
     "iopub.execute_input": "2021-06-20T20:40:36.569721Z",
     "iopub.status.busy": "2021-06-20T20:40:36.569064Z",
     "iopub.status.idle": "2021-06-20T20:40:36.627630Z",
     "shell.execute_reply": "2021-06-20T20:40:36.627139Z",
     "shell.execute_reply.started": "2021-06-20T18:36:07.627609Z"
    },
    "papermill": {
     "duration": 0.087493,
     "end_time": "2021-06-20T20:40:36.627776",
     "exception": false,
     "start_time": "2021-06-20T20:40:36.540283",
     "status": "completed"
    },
    "tags": []
   },
   "outputs": [
    {
     "data": {
      "text/html": [
       "<div>\n",
       "<style scoped>\n",
       "    .dataframe tbody tr th:only-of-type {\n",
       "        vertical-align: middle;\n",
       "    }\n",
       "\n",
       "    .dataframe tbody tr th {\n",
       "        vertical-align: top;\n",
       "    }\n",
       "\n",
       "    .dataframe thead th {\n",
       "        text-align: right;\n",
       "    }\n",
       "</style>\n",
       "<table border=\"1\" class=\"dataframe\">\n",
       "  <thead>\n",
       "    <tr style=\"text-align: right;\">\n",
       "      <th></th>\n",
       "      <th>PassengerId</th>\n",
       "      <th>Survived</th>\n",
       "      <th>Pclass</th>\n",
       "      <th>Name</th>\n",
       "      <th>Sex</th>\n",
       "      <th>Age</th>\n",
       "      <th>SibSp</th>\n",
       "      <th>Parch</th>\n",
       "      <th>Ticket</th>\n",
       "      <th>Fare</th>\n",
       "      <th>Cabin</th>\n",
       "      <th>Embarked</th>\n",
       "    </tr>\n",
       "  </thead>\n",
       "  <tbody>\n",
       "    <tr>\n",
       "      <th>0</th>\n",
       "      <td>1</td>\n",
       "      <td>0</td>\n",
       "      <td>3</td>\n",
       "      <td>Braund, Mr. Owen Harris</td>\n",
       "      <td>male</td>\n",
       "      <td>22.0</td>\n",
       "      <td>1</td>\n",
       "      <td>0</td>\n",
       "      <td>A/5 21171</td>\n",
       "      <td>7.2500</td>\n",
       "      <td>NaN</td>\n",
       "      <td>S</td>\n",
       "    </tr>\n",
       "    <tr>\n",
       "      <th>1</th>\n",
       "      <td>2</td>\n",
       "      <td>1</td>\n",
       "      <td>1</td>\n",
       "      <td>Cumings, Mrs. John Bradley (Florence Briggs Th...</td>\n",
       "      <td>female</td>\n",
       "      <td>38.0</td>\n",
       "      <td>1</td>\n",
       "      <td>0</td>\n",
       "      <td>PC 17599</td>\n",
       "      <td>71.2833</td>\n",
       "      <td>C85</td>\n",
       "      <td>C</td>\n",
       "    </tr>\n",
       "    <tr>\n",
       "      <th>2</th>\n",
       "      <td>3</td>\n",
       "      <td>1</td>\n",
       "      <td>3</td>\n",
       "      <td>Heikkinen, Miss. Laina</td>\n",
       "      <td>female</td>\n",
       "      <td>26.0</td>\n",
       "      <td>0</td>\n",
       "      <td>0</td>\n",
       "      <td>STON/O2. 3101282</td>\n",
       "      <td>7.9250</td>\n",
       "      <td>NaN</td>\n",
       "      <td>S</td>\n",
       "    </tr>\n",
       "    <tr>\n",
       "      <th>3</th>\n",
       "      <td>4</td>\n",
       "      <td>1</td>\n",
       "      <td>1</td>\n",
       "      <td>Futrelle, Mrs. Jacques Heath (Lily May Peel)</td>\n",
       "      <td>female</td>\n",
       "      <td>35.0</td>\n",
       "      <td>1</td>\n",
       "      <td>0</td>\n",
       "      <td>113803</td>\n",
       "      <td>53.1000</td>\n",
       "      <td>C123</td>\n",
       "      <td>S</td>\n",
       "    </tr>\n",
       "    <tr>\n",
       "      <th>4</th>\n",
       "      <td>5</td>\n",
       "      <td>0</td>\n",
       "      <td>3</td>\n",
       "      <td>Allen, Mr. William Henry</td>\n",
       "      <td>male</td>\n",
       "      <td>35.0</td>\n",
       "      <td>0</td>\n",
       "      <td>0</td>\n",
       "      <td>373450</td>\n",
       "      <td>8.0500</td>\n",
       "      <td>NaN</td>\n",
       "      <td>S</td>\n",
       "    </tr>\n",
       "    <tr>\n",
       "      <th>...</th>\n",
       "      <td>...</td>\n",
       "      <td>...</td>\n",
       "      <td>...</td>\n",
       "      <td>...</td>\n",
       "      <td>...</td>\n",
       "      <td>...</td>\n",
       "      <td>...</td>\n",
       "      <td>...</td>\n",
       "      <td>...</td>\n",
       "      <td>...</td>\n",
       "      <td>...</td>\n",
       "      <td>...</td>\n",
       "    </tr>\n",
       "    <tr>\n",
       "      <th>886</th>\n",
       "      <td>887</td>\n",
       "      <td>0</td>\n",
       "      <td>2</td>\n",
       "      <td>Montvila, Rev. Juozas</td>\n",
       "      <td>male</td>\n",
       "      <td>27.0</td>\n",
       "      <td>0</td>\n",
       "      <td>0</td>\n",
       "      <td>211536</td>\n",
       "      <td>13.0000</td>\n",
       "      <td>NaN</td>\n",
       "      <td>S</td>\n",
       "    </tr>\n",
       "    <tr>\n",
       "      <th>887</th>\n",
       "      <td>888</td>\n",
       "      <td>1</td>\n",
       "      <td>1</td>\n",
       "      <td>Graham, Miss. Margaret Edith</td>\n",
       "      <td>female</td>\n",
       "      <td>19.0</td>\n",
       "      <td>0</td>\n",
       "      <td>0</td>\n",
       "      <td>112053</td>\n",
       "      <td>30.0000</td>\n",
       "      <td>B42</td>\n",
       "      <td>S</td>\n",
       "    </tr>\n",
       "    <tr>\n",
       "      <th>888</th>\n",
       "      <td>889</td>\n",
       "      <td>0</td>\n",
       "      <td>3</td>\n",
       "      <td>Johnston, Miss. Catherine Helen \"Carrie\"</td>\n",
       "      <td>female</td>\n",
       "      <td>NaN</td>\n",
       "      <td>1</td>\n",
       "      <td>2</td>\n",
       "      <td>W./C. 6607</td>\n",
       "      <td>23.4500</td>\n",
       "      <td>NaN</td>\n",
       "      <td>S</td>\n",
       "    </tr>\n",
       "    <tr>\n",
       "      <th>889</th>\n",
       "      <td>890</td>\n",
       "      <td>1</td>\n",
       "      <td>1</td>\n",
       "      <td>Behr, Mr. Karl Howell</td>\n",
       "      <td>male</td>\n",
       "      <td>26.0</td>\n",
       "      <td>0</td>\n",
       "      <td>0</td>\n",
       "      <td>111369</td>\n",
       "      <td>30.0000</td>\n",
       "      <td>C148</td>\n",
       "      <td>C</td>\n",
       "    </tr>\n",
       "    <tr>\n",
       "      <th>890</th>\n",
       "      <td>891</td>\n",
       "      <td>0</td>\n",
       "      <td>3</td>\n",
       "      <td>Dooley, Mr. Patrick</td>\n",
       "      <td>male</td>\n",
       "      <td>32.0</td>\n",
       "      <td>0</td>\n",
       "      <td>0</td>\n",
       "      <td>370376</td>\n",
       "      <td>7.7500</td>\n",
       "      <td>NaN</td>\n",
       "      <td>Q</td>\n",
       "    </tr>\n",
       "  </tbody>\n",
       "</table>\n",
       "<p>891 rows × 12 columns</p>\n",
       "</div>"
      ],
      "text/plain": [
       "     PassengerId  Survived  Pclass  \\\n",
       "0              1         0       3   \n",
       "1              2         1       1   \n",
       "2              3         1       3   \n",
       "3              4         1       1   \n",
       "4              5         0       3   \n",
       "..           ...       ...     ...   \n",
       "886          887         0       2   \n",
       "887          888         1       1   \n",
       "888          889         0       3   \n",
       "889          890         1       1   \n",
       "890          891         0       3   \n",
       "\n",
       "                                                  Name     Sex   Age  SibSp  \\\n",
       "0                              Braund, Mr. Owen Harris    male  22.0      1   \n",
       "1    Cumings, Mrs. John Bradley (Florence Briggs Th...  female  38.0      1   \n",
       "2                               Heikkinen, Miss. Laina  female  26.0      0   \n",
       "3         Futrelle, Mrs. Jacques Heath (Lily May Peel)  female  35.0      1   \n",
       "4                             Allen, Mr. William Henry    male  35.0      0   \n",
       "..                                                 ...     ...   ...    ...   \n",
       "886                              Montvila, Rev. Juozas    male  27.0      0   \n",
       "887                       Graham, Miss. Margaret Edith  female  19.0      0   \n",
       "888           Johnston, Miss. Catherine Helen \"Carrie\"  female   NaN      1   \n",
       "889                              Behr, Mr. Karl Howell    male  26.0      0   \n",
       "890                                Dooley, Mr. Patrick    male  32.0      0   \n",
       "\n",
       "     Parch            Ticket     Fare Cabin Embarked  \n",
       "0        0         A/5 21171   7.2500   NaN        S  \n",
       "1        0          PC 17599  71.2833   C85        C  \n",
       "2        0  STON/O2. 3101282   7.9250   NaN        S  \n",
       "3        0            113803  53.1000  C123        S  \n",
       "4        0            373450   8.0500   NaN        S  \n",
       "..     ...               ...      ...   ...      ...  \n",
       "886      0            211536  13.0000   NaN        S  \n",
       "887      0            112053  30.0000   B42        S  \n",
       "888      2        W./C. 6607  23.4500   NaN        S  \n",
       "889      0            111369  30.0000  C148        C  \n",
       "890      0            370376   7.7500   NaN        Q  \n",
       "\n",
       "[891 rows x 12 columns]"
      ]
     },
     "execution_count": 4,
     "metadata": {},
     "output_type": "execute_result"
    }
   ],
   "source": [
    "train_pd = pd.read_csv(\"C:/Users/ambri/OneDrive/Desktop/python/train.csv\")\n",
    "train_pd"
   ]
  },
  {
   "cell_type": "code",
   "execution_count": 5,
   "id": "empirical-principle",
   "metadata": {
    "execution": {
     "iopub.execute_input": "2021-06-20T20:40:36.702645Z",
     "iopub.status.busy": "2021-06-20T20:40:36.684199Z",
     "iopub.status.idle": "2021-06-20T20:40:36.707780Z",
     "shell.execute_reply": "2021-06-20T20:40:36.707187Z",
     "shell.execute_reply.started": "2021-06-20T18:55:20.473512Z"
    },
    "papermill": {
     "duration": 0.055648,
     "end_time": "2021-06-20T20:40:36.707925",
     "exception": false,
     "start_time": "2021-06-20T20:40:36.652277",
     "status": "completed"
    },
    "tags": []
   },
   "outputs": [
    {
     "data": {
      "text/html": [
       "<div>\n",
       "<style scoped>\n",
       "    .dataframe tbody tr th:only-of-type {\n",
       "        vertical-align: middle;\n",
       "    }\n",
       "\n",
       "    .dataframe tbody tr th {\n",
       "        vertical-align: top;\n",
       "    }\n",
       "\n",
       "    .dataframe thead th {\n",
       "        text-align: right;\n",
       "    }\n",
       "</style>\n",
       "<table border=\"1\" class=\"dataframe\">\n",
       "  <thead>\n",
       "    <tr style=\"text-align: right;\">\n",
       "      <th></th>\n",
       "      <th>Survived</th>\n",
       "      <th>Pclass</th>\n",
       "      <th>Sex</th>\n",
       "      <th>Age</th>\n",
       "      <th>SibSp</th>\n",
       "      <th>Parch</th>\n",
       "      <th>Fare</th>\n",
       "      <th>Embarked</th>\n",
       "    </tr>\n",
       "  </thead>\n",
       "  <tbody>\n",
       "    <tr>\n",
       "      <th>0</th>\n",
       "      <td>0</td>\n",
       "      <td>3</td>\n",
       "      <td>male</td>\n",
       "      <td>22.0</td>\n",
       "      <td>1</td>\n",
       "      <td>0</td>\n",
       "      <td>7.2500</td>\n",
       "      <td>S</td>\n",
       "    </tr>\n",
       "    <tr>\n",
       "      <th>1</th>\n",
       "      <td>1</td>\n",
       "      <td>1</td>\n",
       "      <td>female</td>\n",
       "      <td>38.0</td>\n",
       "      <td>1</td>\n",
       "      <td>0</td>\n",
       "      <td>71.2833</td>\n",
       "      <td>C</td>\n",
       "    </tr>\n",
       "    <tr>\n",
       "      <th>2</th>\n",
       "      <td>1</td>\n",
       "      <td>3</td>\n",
       "      <td>female</td>\n",
       "      <td>26.0</td>\n",
       "      <td>0</td>\n",
       "      <td>0</td>\n",
       "      <td>7.9250</td>\n",
       "      <td>S</td>\n",
       "    </tr>\n",
       "    <tr>\n",
       "      <th>3</th>\n",
       "      <td>1</td>\n",
       "      <td>1</td>\n",
       "      <td>female</td>\n",
       "      <td>35.0</td>\n",
       "      <td>1</td>\n",
       "      <td>0</td>\n",
       "      <td>53.1000</td>\n",
       "      <td>S</td>\n",
       "    </tr>\n",
       "    <tr>\n",
       "      <th>4</th>\n",
       "      <td>0</td>\n",
       "      <td>3</td>\n",
       "      <td>male</td>\n",
       "      <td>35.0</td>\n",
       "      <td>0</td>\n",
       "      <td>0</td>\n",
       "      <td>8.0500</td>\n",
       "      <td>S</td>\n",
       "    </tr>\n",
       "    <tr>\n",
       "      <th>...</th>\n",
       "      <td>...</td>\n",
       "      <td>...</td>\n",
       "      <td>...</td>\n",
       "      <td>...</td>\n",
       "      <td>...</td>\n",
       "      <td>...</td>\n",
       "      <td>...</td>\n",
       "      <td>...</td>\n",
       "    </tr>\n",
       "    <tr>\n",
       "      <th>886</th>\n",
       "      <td>0</td>\n",
       "      <td>2</td>\n",
       "      <td>male</td>\n",
       "      <td>27.0</td>\n",
       "      <td>0</td>\n",
       "      <td>0</td>\n",
       "      <td>13.0000</td>\n",
       "      <td>S</td>\n",
       "    </tr>\n",
       "    <tr>\n",
       "      <th>887</th>\n",
       "      <td>1</td>\n",
       "      <td>1</td>\n",
       "      <td>female</td>\n",
       "      <td>19.0</td>\n",
       "      <td>0</td>\n",
       "      <td>0</td>\n",
       "      <td>30.0000</td>\n",
       "      <td>S</td>\n",
       "    </tr>\n",
       "    <tr>\n",
       "      <th>888</th>\n",
       "      <td>0</td>\n",
       "      <td>3</td>\n",
       "      <td>female</td>\n",
       "      <td>NaN</td>\n",
       "      <td>1</td>\n",
       "      <td>2</td>\n",
       "      <td>23.4500</td>\n",
       "      <td>S</td>\n",
       "    </tr>\n",
       "    <tr>\n",
       "      <th>889</th>\n",
       "      <td>1</td>\n",
       "      <td>1</td>\n",
       "      <td>male</td>\n",
       "      <td>26.0</td>\n",
       "      <td>0</td>\n",
       "      <td>0</td>\n",
       "      <td>30.0000</td>\n",
       "      <td>C</td>\n",
       "    </tr>\n",
       "    <tr>\n",
       "      <th>890</th>\n",
       "      <td>0</td>\n",
       "      <td>3</td>\n",
       "      <td>male</td>\n",
       "      <td>32.0</td>\n",
       "      <td>0</td>\n",
       "      <td>0</td>\n",
       "      <td>7.7500</td>\n",
       "      <td>Q</td>\n",
       "    </tr>\n",
       "  </tbody>\n",
       "</table>\n",
       "<p>891 rows × 8 columns</p>\n",
       "</div>"
      ],
      "text/plain": [
       "     Survived  Pclass     Sex   Age  SibSp  Parch     Fare Embarked\n",
       "0           0       3    male  22.0      1      0   7.2500        S\n",
       "1           1       1  female  38.0      1      0  71.2833        C\n",
       "2           1       3  female  26.0      0      0   7.9250        S\n",
       "3           1       1  female  35.0      1      0  53.1000        S\n",
       "4           0       3    male  35.0      0      0   8.0500        S\n",
       "..        ...     ...     ...   ...    ...    ...      ...      ...\n",
       "886         0       2    male  27.0      0      0  13.0000        S\n",
       "887         1       1  female  19.0      0      0  30.0000        S\n",
       "888         0       3  female   NaN      1      2  23.4500        S\n",
       "889         1       1    male  26.0      0      0  30.0000        C\n",
       "890         0       3    male  32.0      0      0   7.7500        Q\n",
       "\n",
       "[891 rows x 8 columns]"
      ]
     },
     "execution_count": 5,
     "metadata": {},
     "output_type": "execute_result"
    }
   ],
   "source": [
    "train_pd = train_pd[['Survived', 'Pclass', 'Sex', 'Age', 'SibSp', 'Parch', 'Fare', 'Embarked']]\n",
    "train_pd"
   ]
  },
  {
   "cell_type": "code",
   "execution_count": 6,
   "id": "exposed-karma",
   "metadata": {
    "execution": {
     "iopub.execute_input": "2021-06-20T20:40:36.766189Z",
     "iopub.status.busy": "2021-06-20T20:40:36.765404Z",
     "iopub.status.idle": "2021-06-20T20:40:36.800415Z",
     "shell.execute_reply": "2021-06-20T20:40:36.800909Z",
     "shell.execute_reply.started": "2021-06-20T18:55:23.841134Z"
    },
    "papermill": {
     "duration": 0.067518,
     "end_time": "2021-06-20T20:40:36.801138",
     "exception": false,
     "start_time": "2021-06-20T20:40:36.733620",
     "status": "completed"
    },
    "tags": []
   },
   "outputs": [
    {
     "data": {
      "text/html": [
       "<div>\n",
       "<style scoped>\n",
       "    .dataframe tbody tr th:only-of-type {\n",
       "        vertical-align: middle;\n",
       "    }\n",
       "\n",
       "    .dataframe tbody tr th {\n",
       "        vertical-align: top;\n",
       "    }\n",
       "\n",
       "    .dataframe thead th {\n",
       "        text-align: right;\n",
       "    }\n",
       "</style>\n",
       "<table border=\"1\" class=\"dataframe\">\n",
       "  <thead>\n",
       "    <tr style=\"text-align: right;\">\n",
       "      <th></th>\n",
       "      <th>Survived</th>\n",
       "      <th>Pclass</th>\n",
       "      <th>Sex</th>\n",
       "      <th>Age</th>\n",
       "      <th>SibSp</th>\n",
       "      <th>Parch</th>\n",
       "      <th>Fare</th>\n",
       "      <th>Embarked</th>\n",
       "    </tr>\n",
       "  </thead>\n",
       "  <tbody>\n",
       "    <tr>\n",
       "      <th>0</th>\n",
       "      <td>0</td>\n",
       "      <td>3</td>\n",
       "      <td>male</td>\n",
       "      <td>22.0</td>\n",
       "      <td>1</td>\n",
       "      <td>0</td>\n",
       "      <td>7.2500</td>\n",
       "      <td>S</td>\n",
       "    </tr>\n",
       "    <tr>\n",
       "      <th>1</th>\n",
       "      <td>1</td>\n",
       "      <td>1</td>\n",
       "      <td>female</td>\n",
       "      <td>38.0</td>\n",
       "      <td>1</td>\n",
       "      <td>0</td>\n",
       "      <td>71.2833</td>\n",
       "      <td>C</td>\n",
       "    </tr>\n",
       "    <tr>\n",
       "      <th>2</th>\n",
       "      <td>1</td>\n",
       "      <td>3</td>\n",
       "      <td>female</td>\n",
       "      <td>26.0</td>\n",
       "      <td>0</td>\n",
       "      <td>0</td>\n",
       "      <td>7.9250</td>\n",
       "      <td>S</td>\n",
       "    </tr>\n",
       "    <tr>\n",
       "      <th>3</th>\n",
       "      <td>1</td>\n",
       "      <td>1</td>\n",
       "      <td>female</td>\n",
       "      <td>35.0</td>\n",
       "      <td>1</td>\n",
       "      <td>0</td>\n",
       "      <td>53.1000</td>\n",
       "      <td>S</td>\n",
       "    </tr>\n",
       "    <tr>\n",
       "      <th>4</th>\n",
       "      <td>0</td>\n",
       "      <td>3</td>\n",
       "      <td>male</td>\n",
       "      <td>35.0</td>\n",
       "      <td>0</td>\n",
       "      <td>0</td>\n",
       "      <td>8.0500</td>\n",
       "      <td>S</td>\n",
       "    </tr>\n",
       "    <tr>\n",
       "      <th>...</th>\n",
       "      <td>...</td>\n",
       "      <td>...</td>\n",
       "      <td>...</td>\n",
       "      <td>...</td>\n",
       "      <td>...</td>\n",
       "      <td>...</td>\n",
       "      <td>...</td>\n",
       "      <td>...</td>\n",
       "    </tr>\n",
       "    <tr>\n",
       "      <th>885</th>\n",
       "      <td>0</td>\n",
       "      <td>3</td>\n",
       "      <td>female</td>\n",
       "      <td>39.0</td>\n",
       "      <td>0</td>\n",
       "      <td>5</td>\n",
       "      <td>29.1250</td>\n",
       "      <td>Q</td>\n",
       "    </tr>\n",
       "    <tr>\n",
       "      <th>886</th>\n",
       "      <td>0</td>\n",
       "      <td>2</td>\n",
       "      <td>male</td>\n",
       "      <td>27.0</td>\n",
       "      <td>0</td>\n",
       "      <td>0</td>\n",
       "      <td>13.0000</td>\n",
       "      <td>S</td>\n",
       "    </tr>\n",
       "    <tr>\n",
       "      <th>887</th>\n",
       "      <td>1</td>\n",
       "      <td>1</td>\n",
       "      <td>female</td>\n",
       "      <td>19.0</td>\n",
       "      <td>0</td>\n",
       "      <td>0</td>\n",
       "      <td>30.0000</td>\n",
       "      <td>S</td>\n",
       "    </tr>\n",
       "    <tr>\n",
       "      <th>889</th>\n",
       "      <td>1</td>\n",
       "      <td>1</td>\n",
       "      <td>male</td>\n",
       "      <td>26.0</td>\n",
       "      <td>0</td>\n",
       "      <td>0</td>\n",
       "      <td>30.0000</td>\n",
       "      <td>C</td>\n",
       "    </tr>\n",
       "    <tr>\n",
       "      <th>890</th>\n",
       "      <td>0</td>\n",
       "      <td>3</td>\n",
       "      <td>male</td>\n",
       "      <td>32.0</td>\n",
       "      <td>0</td>\n",
       "      <td>0</td>\n",
       "      <td>7.7500</td>\n",
       "      <td>Q</td>\n",
       "    </tr>\n",
       "  </tbody>\n",
       "</table>\n",
       "<p>712 rows × 8 columns</p>\n",
       "</div>"
      ],
      "text/plain": [
       "     Survived  Pclass     Sex   Age  SibSp  Parch     Fare Embarked\n",
       "0           0       3    male  22.0      1      0   7.2500        S\n",
       "1           1       1  female  38.0      1      0  71.2833        C\n",
       "2           1       3  female  26.0      0      0   7.9250        S\n",
       "3           1       1  female  35.0      1      0  53.1000        S\n",
       "4           0       3    male  35.0      0      0   8.0500        S\n",
       "..        ...     ...     ...   ...    ...    ...      ...      ...\n",
       "885         0       3  female  39.0      0      5  29.1250        Q\n",
       "886         0       2    male  27.0      0      0  13.0000        S\n",
       "887         1       1  female  19.0      0      0  30.0000        S\n",
       "889         1       1    male  26.0      0      0  30.0000        C\n",
       "890         0       3    male  32.0      0      0   7.7500        Q\n",
       "\n",
       "[712 rows x 8 columns]"
      ]
     },
     "execution_count": 6,
     "metadata": {},
     "output_type": "execute_result"
    }
   ],
   "source": [
    "train_pd = train_pd.dropna()\n",
    "train_pd"
   ]
  },
  {
   "cell_type": "code",
   "execution_count": 7,
   "id": "injured-walnut",
   "metadata": {
    "execution": {
     "iopub.execute_input": "2021-06-20T20:40:36.861584Z",
     "iopub.status.busy": "2021-06-20T20:40:36.858722Z",
     "iopub.status.idle": "2021-06-20T20:40:36.903512Z",
     "shell.execute_reply": "2021-06-20T20:40:36.902842Z",
     "shell.execute_reply.started": "2021-06-20T19:10:22.073333Z"
    },
    "papermill": {
     "duration": 0.075278,
     "end_time": "2021-06-20T20:40:36.903674",
     "exception": false,
     "start_time": "2021-06-20T20:40:36.828396",
     "status": "completed"
    },
    "tags": []
   },
   "outputs": [
    {
     "data": {
      "text/html": [
       "<div>\n",
       "<style scoped>\n",
       "    .dataframe tbody tr th:only-of-type {\n",
       "        vertical-align: middle;\n",
       "    }\n",
       "\n",
       "    .dataframe tbody tr th {\n",
       "        vertical-align: top;\n",
       "    }\n",
       "\n",
       "    .dataframe thead th {\n",
       "        text-align: right;\n",
       "    }\n",
       "</style>\n",
       "<table border=\"1\" class=\"dataframe\">\n",
       "  <thead>\n",
       "    <tr style=\"text-align: right;\">\n",
       "      <th></th>\n",
       "      <th>Survived</th>\n",
       "      <th>Pclass</th>\n",
       "      <th>Age</th>\n",
       "      <th>SibSp</th>\n",
       "      <th>Parch</th>\n",
       "      <th>Fare</th>\n",
       "    </tr>\n",
       "  </thead>\n",
       "  <tbody>\n",
       "    <tr>\n",
       "      <th>count</th>\n",
       "      <td>712.000000</td>\n",
       "      <td>712.000000</td>\n",
       "      <td>712.000000</td>\n",
       "      <td>712.000000</td>\n",
       "      <td>712.000000</td>\n",
       "      <td>712.000000</td>\n",
       "    </tr>\n",
       "    <tr>\n",
       "      <th>mean</th>\n",
       "      <td>0.404494</td>\n",
       "      <td>2.240169</td>\n",
       "      <td>29.642093</td>\n",
       "      <td>0.514045</td>\n",
       "      <td>0.432584</td>\n",
       "      <td>34.567251</td>\n",
       "    </tr>\n",
       "    <tr>\n",
       "      <th>std</th>\n",
       "      <td>0.491139</td>\n",
       "      <td>0.836854</td>\n",
       "      <td>14.492933</td>\n",
       "      <td>0.930692</td>\n",
       "      <td>0.854181</td>\n",
       "      <td>52.938648</td>\n",
       "    </tr>\n",
       "    <tr>\n",
       "      <th>min</th>\n",
       "      <td>0.000000</td>\n",
       "      <td>1.000000</td>\n",
       "      <td>0.420000</td>\n",
       "      <td>0.000000</td>\n",
       "      <td>0.000000</td>\n",
       "      <td>0.000000</td>\n",
       "    </tr>\n",
       "    <tr>\n",
       "      <th>25%</th>\n",
       "      <td>0.000000</td>\n",
       "      <td>1.000000</td>\n",
       "      <td>20.000000</td>\n",
       "      <td>0.000000</td>\n",
       "      <td>0.000000</td>\n",
       "      <td>8.050000</td>\n",
       "    </tr>\n",
       "    <tr>\n",
       "      <th>50%</th>\n",
       "      <td>0.000000</td>\n",
       "      <td>2.000000</td>\n",
       "      <td>28.000000</td>\n",
       "      <td>0.000000</td>\n",
       "      <td>0.000000</td>\n",
       "      <td>15.645850</td>\n",
       "    </tr>\n",
       "    <tr>\n",
       "      <th>75%</th>\n",
       "      <td>1.000000</td>\n",
       "      <td>3.000000</td>\n",
       "      <td>38.000000</td>\n",
       "      <td>1.000000</td>\n",
       "      <td>1.000000</td>\n",
       "      <td>33.000000</td>\n",
       "    </tr>\n",
       "    <tr>\n",
       "      <th>max</th>\n",
       "      <td>1.000000</td>\n",
       "      <td>3.000000</td>\n",
       "      <td>80.000000</td>\n",
       "      <td>5.000000</td>\n",
       "      <td>6.000000</td>\n",
       "      <td>512.329200</td>\n",
       "    </tr>\n",
       "  </tbody>\n",
       "</table>\n",
       "</div>"
      ],
      "text/plain": [
       "         Survived      Pclass         Age       SibSp       Parch        Fare\n",
       "count  712.000000  712.000000  712.000000  712.000000  712.000000  712.000000\n",
       "mean     0.404494    2.240169   29.642093    0.514045    0.432584   34.567251\n",
       "std      0.491139    0.836854   14.492933    0.930692    0.854181   52.938648\n",
       "min      0.000000    1.000000    0.420000    0.000000    0.000000    0.000000\n",
       "25%      0.000000    1.000000   20.000000    0.000000    0.000000    8.050000\n",
       "50%      0.000000    2.000000   28.000000    0.000000    0.000000   15.645850\n",
       "75%      1.000000    3.000000   38.000000    1.000000    1.000000   33.000000\n",
       "max      1.000000    3.000000   80.000000    5.000000    6.000000  512.329200"
      ]
     },
     "execution_count": 7,
     "metadata": {},
     "output_type": "execute_result"
    }
   ],
   "source": [
    "train_pd.describe()"
   ]
  },
  {
   "cell_type": "code",
   "execution_count": 8,
   "id": "proper-still",
   "metadata": {
    "execution": {
     "iopub.execute_input": "2021-06-20T20:40:36.975661Z",
     "iopub.status.busy": "2021-06-20T20:40:36.974651Z",
     "iopub.status.idle": "2021-06-20T20:40:43.049852Z",
     "shell.execute_reply": "2021-06-20T20:40:43.050368Z",
     "shell.execute_reply.started": "2021-06-20T19:08:21.750314Z"
    },
    "papermill": {
     "duration": 6.113123,
     "end_time": "2021-06-20T20:40:43.050562",
     "exception": false,
     "start_time": "2021-06-20T20:40:36.937439",
     "status": "completed"
    },
    "tags": []
   },
   "outputs": [
    {
     "data": {
      "text/plain": [
       "array([[0., 0., 1.],\n",
       "       [1., 0., 0.],\n",
       "       [0., 0., 1.],\n",
       "       ...,\n",
       "       [1., 0., 0.],\n",
       "       [1., 0., 0.],\n",
       "       [0., 0., 1.]], dtype=float32)"
      ]
     },
     "execution_count": 8,
     "metadata": {},
     "output_type": "execute_result"
    }
   ],
   "source": [
    "from tensorflow.keras.utils import to_categorical\n",
    "pclass = train_pd['Pclass'].to_numpy()\n",
    "as_categorical_pclass = to_categorical(pclass - 1, num_classes=3)\n",
    "as_categorical_pclass"
   ]
  },
  {
   "cell_type": "code",
   "execution_count": 9,
   "id": "fuzzy-perth",
   "metadata": {
    "execution": {
     "iopub.execute_input": "2021-06-20T20:40:43.112952Z",
     "iopub.status.busy": "2021-06-20T20:40:43.112063Z",
     "iopub.status.idle": "2021-06-20T20:40:43.116738Z",
     "shell.execute_reply": "2021-06-20T20:40:43.116249Z",
     "shell.execute_reply.started": "2021-06-20T19:24:39.684983Z"
    },
    "papermill": {
     "duration": 0.039007,
     "end_time": "2021-06-20T20:40:43.116892",
     "exception": false,
     "start_time": "2021-06-20T20:40:43.077885",
     "status": "completed"
    },
    "tags": []
   },
   "outputs": [
    {
     "data": {
      "text/plain": [
       "array([1, 0, 0, 0, 1, 1, 1, 0, 0, 0], dtype=int64)"
      ]
     },
     "execution_count": 9,
     "metadata": {},
     "output_type": "execute_result"
    }
   ],
   "source": [
    "def sex_str_to_binary(s):\n",
    "    if s==\"male\":\n",
    "        return 1\n",
    "    else:\n",
    "        return 0\n",
    "sex = train_pd['Sex']\n",
    "\n",
    "as_binary_sex = sex.apply(sex_str_to_binary).to_numpy()\n",
    "as_binary_sex[:10]"
   ]
  },
  {
   "cell_type": "code",
   "execution_count": 10,
   "id": "geological-ranking",
   "metadata": {
    "execution": {
     "iopub.execute_input": "2021-06-20T20:40:43.177531Z",
     "iopub.status.busy": "2021-06-20T20:40:43.176862Z",
     "iopub.status.idle": "2021-06-20T20:40:43.180733Z",
     "shell.execute_reply": "2021-06-20T20:40:43.181227Z",
     "shell.execute_reply.started": "2021-06-20T19:44:28.998975Z"
    },
    "papermill": {
     "duration": 0.038042,
     "end_time": "2021-06-20T20:40:43.181411",
     "exception": false,
     "start_time": "2021-06-20T20:40:43.143369",
     "status": "completed"
    },
    "tags": []
   },
   "outputs": [
    {
     "data": {
      "text/plain": [
       "array([-0.52729787,  0.57668847, -0.25130129,  0.36969103,  0.36969103,\n",
       "        1.68067481, -1.9072808 , -0.18230214, -1.07929105, -1.76928251])"
      ]
     },
     "execution_count": 10,
     "metadata": {},
     "output_type": "execute_result"
    }
   ],
   "source": [
    "age_np = train_pd['Age'].to_numpy()\n",
    "age_np = (age_np - train_pd['Age'].mean()) / train_pd['Age'].std()\n",
    "age_np[:10]"
   ]
  },
  {
   "cell_type": "code",
   "execution_count": 11,
   "id": "invalid-audio",
   "metadata": {
    "execution": {
     "iopub.execute_input": "2021-06-20T20:40:43.242962Z",
     "iopub.status.busy": "2021-06-20T20:40:43.242289Z",
     "iopub.status.idle": "2021-06-20T20:40:43.245999Z",
     "shell.execute_reply": "2021-06-20T20:40:43.245381Z",
     "shell.execute_reply.started": "2021-06-20T19:44:22.242389Z"
    },
    "papermill": {
     "duration": 0.037774,
     "end_time": "2021-06-20T20:40:43.246148",
     "exception": false,
     "start_time": "2021-06-20T20:40:43.208374",
     "status": "completed"
    },
    "tags": []
   },
   "outputs": [
    {
     "data": {
      "text/plain": [
       "array([ 0.52214373,  0.52214373, -0.55232545,  0.52214373, -0.55232545,\n",
       "       -0.55232545,  2.67108207, -0.55232545,  0.52214373,  0.52214373])"
      ]
     },
     "execution_count": 11,
     "metadata": {},
     "output_type": "execute_result"
    }
   ],
   "source": [
    "sibsp = train_pd['SibSp']\n",
    "sibsp_np = sibsp.to_numpy()\n",
    "sibsp_np = (sibsp_np - train_pd['SibSp'].mean()) / train_pd['SibSp'].std()\n",
    "sibsp_np[:10]"
   ]
  },
  {
   "cell_type": "code",
   "execution_count": 12,
   "id": "revised-evolution",
   "metadata": {
    "execution": {
     "iopub.execute_input": "2021-06-20T20:40:43.308676Z",
     "iopub.status.busy": "2021-06-20T20:40:43.307736Z",
     "iopub.status.idle": "2021-06-20T20:40:43.311456Z",
     "shell.execute_reply": "2021-06-20T20:40:43.312041Z",
     "shell.execute_reply.started": "2021-06-20T19:44:01.840695Z"
    },
    "papermill": {
     "duration": 0.038919,
     "end_time": "2021-06-20T20:40:43.312232",
     "exception": false,
     "start_time": "2021-06-20T20:40:43.273313",
     "status": "completed"
    },
    "tags": []
   },
   "outputs": [
    {
     "data": {
      "text/plain": [
       "array([-0.50643136, -0.50643136, -0.50643136, -0.50643136, -0.50643136,\n",
       "       -0.50643136,  0.66428009,  1.83499154, -0.50643136,  0.66428009])"
      ]
     },
     "execution_count": 12,
     "metadata": {},
     "output_type": "execute_result"
    }
   ],
   "source": [
    "parch = train_pd['Parch']\n",
    "parch = parch.to_numpy()\n",
    "parch = (parch - train_pd['Parch'].mean()) / train_pd['Parch'].std()\n",
    "parch[:10]"
   ]
  },
  {
   "cell_type": "code",
   "execution_count": 13,
   "id": "yellow-olive",
   "metadata": {
    "execution": {
     "iopub.execute_input": "2021-06-20T20:40:43.375521Z",
     "iopub.status.busy": "2021-06-20T20:40:43.374590Z",
     "iopub.status.idle": "2021-06-20T20:40:43.378907Z",
     "shell.execute_reply": "2021-06-20T20:40:43.378297Z",
     "shell.execute_reply.started": "2021-06-20T19:43:53.228983Z"
    },
    "papermill": {
     "duration": 0.039279,
     "end_time": "2021-06-20T20:40:43.379074",
     "exception": false,
     "start_time": "2021-06-20T20:40:43.339795",
     "status": "completed"
    },
    "tags": []
   },
   "outputs": [
    {
     "data": {
      "text/plain": [
       "array([-0.51601717,  0.69355848, -0.50326656,  0.35007975, -0.50090534,\n",
       "        0.32670363, -0.25486581, -0.44266244, -0.08493703, -0.33750864])"
      ]
     },
     "execution_count": 13,
     "metadata": {},
     "output_type": "execute_result"
    }
   ],
   "source": [
    "fare = train_pd['Fare'].to_numpy()\n",
    "fare = (fare - train_pd['Fare'].mean()) / train_pd['Fare'].std()\n",
    "fare[:10]"
   ]
  },
  {
   "cell_type": "code",
   "execution_count": 14,
   "id": "found-procurement",
   "metadata": {
    "execution": {
     "iopub.execute_input": "2021-06-20T20:40:43.439683Z",
     "iopub.status.busy": "2021-06-20T20:40:43.439066Z",
     "iopub.status.idle": "2021-06-20T20:40:44.185726Z",
     "shell.execute_reply": "2021-06-20T20:40:44.185161Z",
     "shell.execute_reply.started": "2021-06-20T19:43:08.323918Z"
    },
    "papermill": {
     "duration": 0.778754,
     "end_time": "2021-06-20T20:40:44.185904",
     "exception": false,
     "start_time": "2021-06-20T20:40:43.407150",
     "status": "completed"
    },
    "tags": []
   },
   "outputs": [],
   "source": [
    "from sklearn.linear_model import LogisticRegression"
   ]
  },
  {
   "cell_type": "code",
   "execution_count": 15,
   "id": "comparative-conditions",
   "metadata": {
    "execution": {
     "iopub.execute_input": "2021-06-20T20:40:44.247868Z",
     "iopub.status.busy": "2021-06-20T20:40:44.247256Z",
     "iopub.status.idle": "2021-06-20T20:40:44.251024Z",
     "shell.execute_reply": "2021-06-20T20:40:44.250396Z",
     "shell.execute_reply.started": "2021-06-20T19:43:09.830984Z"
    },
    "papermill": {
     "duration": 0.037089,
     "end_time": "2021-06-20T20:40:44.251172",
     "exception": false,
     "start_time": "2021-06-20T20:40:44.214083",
     "status": "completed"
    },
    "tags": []
   },
   "outputs": [
    {
     "data": {
      "text/plain": [
       "array([0, 1, 1, 1, 0, 0, 0, 1, 1, 1], dtype=int64)"
      ]
     },
     "execution_count": 15,
     "metadata": {},
     "output_type": "execute_result"
    }
   ],
   "source": [
    "train_Y = train_pd['Survived'].to_numpy()\n",
    "train_Y[:10]"
   ]
  },
  {
   "cell_type": "code",
   "execution_count": 16,
   "id": "viral-screw",
   "metadata": {
    "execution": {
     "iopub.execute_input": "2021-06-20T20:40:44.316726Z",
     "iopub.status.busy": "2021-06-20T20:40:44.314417Z",
     "iopub.status.idle": "2021-06-20T20:40:44.321046Z",
     "shell.execute_reply": "2021-06-20T20:40:44.320473Z",
     "shell.execute_reply.started": "2021-06-20T19:44:38.833009Z"
    },
    "papermill": {
     "duration": 0.041593,
     "end_time": "2021-06-20T20:40:44.321193",
     "exception": false,
     "start_time": "2021-06-20T20:40:44.279600",
     "status": "completed"
    },
    "tags": []
   },
   "outputs": [
    {
     "data": {
      "text/plain": [
       "array([[ 0.        ,  0.        ,  1.        , ...,  0.52214373,\n",
       "        -0.50643136, -0.51601717],\n",
       "       [ 1.        ,  0.        ,  0.        , ...,  0.52214373,\n",
       "        -0.50643136,  0.69355848],\n",
       "       [ 0.        ,  0.        ,  1.        , ..., -0.55232545,\n",
       "        -0.50643136, -0.50326656],\n",
       "       ...,\n",
       "       [ 1.        ,  0.        ,  0.        , ..., -0.55232545,\n",
       "        -0.50643136, -0.08627442],\n",
       "       [ 1.        ,  0.        ,  0.        , ..., -0.55232545,\n",
       "        -0.50643136, -0.08627442],\n",
       "       [ 0.        ,  0.        ,  1.        , ..., -0.55232545,\n",
       "        -0.50643136, -0.50657227]])"
      ]
     },
     "execution_count": 16,
     "metadata": {},
     "output_type": "execute_result"
    }
   ],
   "source": [
    "train_X = np.concatenate((as_categorical_pclass, \n",
    "                as_binary_sex.reshape(-1, 1),\n",
    "                age_np.reshape(-1, 1),\n",
    "                sibsp_np.reshape(-1,1),\n",
    "                parch.reshape(-1,1),\n",
    "                fare.reshape(-1,1)), axis=1)\n",
    "train_X"
   ]
  },
  {
   "cell_type": "code",
   "execution_count": 17,
   "id": "multiple-branch",
   "metadata": {
    "execution": {
     "iopub.execute_input": "2021-06-20T20:40:44.383871Z",
     "iopub.status.busy": "2021-06-20T20:40:44.383264Z",
     "iopub.status.idle": "2021-06-20T20:40:44.401762Z",
     "shell.execute_reply": "2021-06-20T20:40:44.401191Z",
     "shell.execute_reply.started": "2021-06-20T19:48:09.549157Z"
    },
    "papermill": {
     "duration": 0.052431,
     "end_time": "2021-06-20T20:40:44.401904",
     "exception": false,
     "start_time": "2021-06-20T20:40:44.349473",
     "status": "completed"
    },
    "tags": []
   },
   "outputs": [
    {
     "data": {
      "text/plain": [
       "0.800561797752809"
      ]
     },
     "execution_count": 17,
     "metadata": {},
     "output_type": "execute_result"
    }
   ],
   "source": [
    "model = LogisticRegression(random_state=0).fit(train_X, train_Y)\n",
    "model.score(train_X, train_Y)"
   ]
  },
  {
   "cell_type": "code",
   "execution_count": 18,
   "id": "potential-brother",
   "metadata": {
    "execution": {
     "iopub.execute_input": "2021-06-20T20:40:44.465130Z",
     "iopub.status.busy": "2021-06-20T20:40:44.464487Z",
     "iopub.status.idle": "2021-06-20T20:40:44.507487Z",
     "shell.execute_reply": "2021-06-20T20:40:44.506968Z",
     "shell.execute_reply.started": "2021-06-20T20:25:17.845603Z"
    },
    "papermill": {
     "duration": 0.076786,
     "end_time": "2021-06-20T20:40:44.507620",
     "exception": false,
     "start_time": "2021-06-20T20:40:44.430834",
     "status": "completed"
    },
    "tags": []
   },
   "outputs": [
    {
     "data": {
      "text/html": [
       "<div>\n",
       "<style scoped>\n",
       "    .dataframe tbody tr th:only-of-type {\n",
       "        vertical-align: middle;\n",
       "    }\n",
       "\n",
       "    .dataframe tbody tr th {\n",
       "        vertical-align: top;\n",
       "    }\n",
       "\n",
       "    .dataframe thead th {\n",
       "        text-align: right;\n",
       "    }\n",
       "</style>\n",
       "<table border=\"1\" class=\"dataframe\">\n",
       "  <thead>\n",
       "    <tr style=\"text-align: right;\">\n",
       "      <th></th>\n",
       "      <th>PassengerId</th>\n",
       "      <th>Pclass</th>\n",
       "      <th>Name</th>\n",
       "      <th>Sex</th>\n",
       "      <th>Age</th>\n",
       "      <th>SibSp</th>\n",
       "      <th>Parch</th>\n",
       "      <th>Ticket</th>\n",
       "      <th>Fare</th>\n",
       "      <th>Cabin</th>\n",
       "      <th>Embarked</th>\n",
       "    </tr>\n",
       "  </thead>\n",
       "  <tbody>\n",
       "    <tr>\n",
       "      <th>0</th>\n",
       "      <td>892</td>\n",
       "      <td>3</td>\n",
       "      <td>Kelly, Mr. James</td>\n",
       "      <td>male</td>\n",
       "      <td>34.5</td>\n",
       "      <td>0</td>\n",
       "      <td>0</td>\n",
       "      <td>330911</td>\n",
       "      <td>7.8292</td>\n",
       "      <td>NaN</td>\n",
       "      <td>Q</td>\n",
       "    </tr>\n",
       "    <tr>\n",
       "      <th>1</th>\n",
       "      <td>893</td>\n",
       "      <td>3</td>\n",
       "      <td>Wilkes, Mrs. James (Ellen Needs)</td>\n",
       "      <td>female</td>\n",
       "      <td>47.0</td>\n",
       "      <td>1</td>\n",
       "      <td>0</td>\n",
       "      <td>363272</td>\n",
       "      <td>7.0000</td>\n",
       "      <td>NaN</td>\n",
       "      <td>S</td>\n",
       "    </tr>\n",
       "    <tr>\n",
       "      <th>2</th>\n",
       "      <td>894</td>\n",
       "      <td>2</td>\n",
       "      <td>Myles, Mr. Thomas Francis</td>\n",
       "      <td>male</td>\n",
       "      <td>62.0</td>\n",
       "      <td>0</td>\n",
       "      <td>0</td>\n",
       "      <td>240276</td>\n",
       "      <td>9.6875</td>\n",
       "      <td>NaN</td>\n",
       "      <td>Q</td>\n",
       "    </tr>\n",
       "    <tr>\n",
       "      <th>3</th>\n",
       "      <td>895</td>\n",
       "      <td>3</td>\n",
       "      <td>Wirz, Mr. Albert</td>\n",
       "      <td>male</td>\n",
       "      <td>27.0</td>\n",
       "      <td>0</td>\n",
       "      <td>0</td>\n",
       "      <td>315154</td>\n",
       "      <td>8.6625</td>\n",
       "      <td>NaN</td>\n",
       "      <td>S</td>\n",
       "    </tr>\n",
       "    <tr>\n",
       "      <th>4</th>\n",
       "      <td>896</td>\n",
       "      <td>3</td>\n",
       "      <td>Hirvonen, Mrs. Alexander (Helga E Lindqvist)</td>\n",
       "      <td>female</td>\n",
       "      <td>22.0</td>\n",
       "      <td>1</td>\n",
       "      <td>1</td>\n",
       "      <td>3101298</td>\n",
       "      <td>12.2875</td>\n",
       "      <td>NaN</td>\n",
       "      <td>S</td>\n",
       "    </tr>\n",
       "    <tr>\n",
       "      <th>...</th>\n",
       "      <td>...</td>\n",
       "      <td>...</td>\n",
       "      <td>...</td>\n",
       "      <td>...</td>\n",
       "      <td>...</td>\n",
       "      <td>...</td>\n",
       "      <td>...</td>\n",
       "      <td>...</td>\n",
       "      <td>...</td>\n",
       "      <td>...</td>\n",
       "      <td>...</td>\n",
       "    </tr>\n",
       "    <tr>\n",
       "      <th>413</th>\n",
       "      <td>1305</td>\n",
       "      <td>3</td>\n",
       "      <td>Spector, Mr. Woolf</td>\n",
       "      <td>male</td>\n",
       "      <td>NaN</td>\n",
       "      <td>0</td>\n",
       "      <td>0</td>\n",
       "      <td>A.5. 3236</td>\n",
       "      <td>8.0500</td>\n",
       "      <td>NaN</td>\n",
       "      <td>S</td>\n",
       "    </tr>\n",
       "    <tr>\n",
       "      <th>414</th>\n",
       "      <td>1306</td>\n",
       "      <td>1</td>\n",
       "      <td>Oliva y Ocana, Dona. Fermina</td>\n",
       "      <td>female</td>\n",
       "      <td>39.0</td>\n",
       "      <td>0</td>\n",
       "      <td>0</td>\n",
       "      <td>PC 17758</td>\n",
       "      <td>108.9000</td>\n",
       "      <td>C105</td>\n",
       "      <td>C</td>\n",
       "    </tr>\n",
       "    <tr>\n",
       "      <th>415</th>\n",
       "      <td>1307</td>\n",
       "      <td>3</td>\n",
       "      <td>Saether, Mr. Simon Sivertsen</td>\n",
       "      <td>male</td>\n",
       "      <td>38.5</td>\n",
       "      <td>0</td>\n",
       "      <td>0</td>\n",
       "      <td>SOTON/O.Q. 3101262</td>\n",
       "      <td>7.2500</td>\n",
       "      <td>NaN</td>\n",
       "      <td>S</td>\n",
       "    </tr>\n",
       "    <tr>\n",
       "      <th>416</th>\n",
       "      <td>1308</td>\n",
       "      <td>3</td>\n",
       "      <td>Ware, Mr. Frederick</td>\n",
       "      <td>male</td>\n",
       "      <td>NaN</td>\n",
       "      <td>0</td>\n",
       "      <td>0</td>\n",
       "      <td>359309</td>\n",
       "      <td>8.0500</td>\n",
       "      <td>NaN</td>\n",
       "      <td>S</td>\n",
       "    </tr>\n",
       "    <tr>\n",
       "      <th>417</th>\n",
       "      <td>1309</td>\n",
       "      <td>3</td>\n",
       "      <td>Peter, Master. Michael J</td>\n",
       "      <td>male</td>\n",
       "      <td>NaN</td>\n",
       "      <td>1</td>\n",
       "      <td>1</td>\n",
       "      <td>2668</td>\n",
       "      <td>22.3583</td>\n",
       "      <td>NaN</td>\n",
       "      <td>C</td>\n",
       "    </tr>\n",
       "  </tbody>\n",
       "</table>\n",
       "<p>418 rows × 11 columns</p>\n",
       "</div>"
      ],
      "text/plain": [
       "     PassengerId  Pclass                                          Name  \\\n",
       "0            892       3                              Kelly, Mr. James   \n",
       "1            893       3              Wilkes, Mrs. James (Ellen Needs)   \n",
       "2            894       2                     Myles, Mr. Thomas Francis   \n",
       "3            895       3                              Wirz, Mr. Albert   \n",
       "4            896       3  Hirvonen, Mrs. Alexander (Helga E Lindqvist)   \n",
       "..           ...     ...                                           ...   \n",
       "413         1305       3                            Spector, Mr. Woolf   \n",
       "414         1306       1                  Oliva y Ocana, Dona. Fermina   \n",
       "415         1307       3                  Saether, Mr. Simon Sivertsen   \n",
       "416         1308       3                           Ware, Mr. Frederick   \n",
       "417         1309       3                      Peter, Master. Michael J   \n",
       "\n",
       "        Sex   Age  SibSp  Parch              Ticket      Fare Cabin Embarked  \n",
       "0      male  34.5      0      0              330911    7.8292   NaN        Q  \n",
       "1    female  47.0      1      0              363272    7.0000   NaN        S  \n",
       "2      male  62.0      0      0              240276    9.6875   NaN        Q  \n",
       "3      male  27.0      0      0              315154    8.6625   NaN        S  \n",
       "4    female  22.0      1      1             3101298   12.2875   NaN        S  \n",
       "..      ...   ...    ...    ...                 ...       ...   ...      ...  \n",
       "413    male   NaN      0      0           A.5. 3236    8.0500   NaN        S  \n",
       "414  female  39.0      0      0            PC 17758  108.9000  C105        C  \n",
       "415    male  38.5      0      0  SOTON/O.Q. 3101262    7.2500   NaN        S  \n",
       "416    male   NaN      0      0              359309    8.0500   NaN        S  \n",
       "417    male   NaN      1      1                2668   22.3583   NaN        C  \n",
       "\n",
       "[418 rows x 11 columns]"
      ]
     },
     "execution_count": 18,
     "metadata": {},
     "output_type": "execute_result"
    }
   ],
   "source": [
    "test_pd = pd.read_csv(\"C:/Users/ambri/OneDrive/Desktop/python/test.csv\")\n",
    "test_pd"
   ]
  },
  {
   "cell_type": "code",
   "execution_count": 19,
   "id": "ordinary-tower",
   "metadata": {
    "execution": {
     "iopub.execute_input": "2021-06-20T20:40:44.588318Z",
     "iopub.status.busy": "2021-06-20T20:40:44.587464Z",
     "iopub.status.idle": "2021-06-20T20:40:44.592630Z",
     "shell.execute_reply": "2021-06-20T20:40:44.591963Z",
     "shell.execute_reply.started": "2021-06-20T20:25:18.698875Z"
    },
    "papermill": {
     "duration": 0.056059,
     "end_time": "2021-06-20T20:40:44.592786",
     "exception": false,
     "start_time": "2021-06-20T20:40:44.536727",
     "status": "completed"
    },
    "tags": []
   },
   "outputs": [
    {
     "data": {
      "text/html": [
       "<div>\n",
       "<style scoped>\n",
       "    .dataframe tbody tr th:only-of-type {\n",
       "        vertical-align: middle;\n",
       "    }\n",
       "\n",
       "    .dataframe tbody tr th {\n",
       "        vertical-align: top;\n",
       "    }\n",
       "\n",
       "    .dataframe thead th {\n",
       "        text-align: right;\n",
       "    }\n",
       "</style>\n",
       "<table border=\"1\" class=\"dataframe\">\n",
       "  <thead>\n",
       "    <tr style=\"text-align: right;\">\n",
       "      <th></th>\n",
       "      <th>PassengerId</th>\n",
       "      <th>Pclass</th>\n",
       "      <th>Sex</th>\n",
       "      <th>Age</th>\n",
       "      <th>SibSp</th>\n",
       "      <th>Parch</th>\n",
       "      <th>Fare</th>\n",
       "    </tr>\n",
       "  </thead>\n",
       "  <tbody>\n",
       "    <tr>\n",
       "      <th>0</th>\n",
       "      <td>892</td>\n",
       "      <td>3</td>\n",
       "      <td>male</td>\n",
       "      <td>34.5</td>\n",
       "      <td>0</td>\n",
       "      <td>0</td>\n",
       "      <td>7.8292</td>\n",
       "    </tr>\n",
       "    <tr>\n",
       "      <th>1</th>\n",
       "      <td>893</td>\n",
       "      <td>3</td>\n",
       "      <td>female</td>\n",
       "      <td>47.0</td>\n",
       "      <td>1</td>\n",
       "      <td>0</td>\n",
       "      <td>7.0000</td>\n",
       "    </tr>\n",
       "    <tr>\n",
       "      <th>2</th>\n",
       "      <td>894</td>\n",
       "      <td>2</td>\n",
       "      <td>male</td>\n",
       "      <td>62.0</td>\n",
       "      <td>0</td>\n",
       "      <td>0</td>\n",
       "      <td>9.6875</td>\n",
       "    </tr>\n",
       "    <tr>\n",
       "      <th>3</th>\n",
       "      <td>895</td>\n",
       "      <td>3</td>\n",
       "      <td>male</td>\n",
       "      <td>27.0</td>\n",
       "      <td>0</td>\n",
       "      <td>0</td>\n",
       "      <td>8.6625</td>\n",
       "    </tr>\n",
       "    <tr>\n",
       "      <th>4</th>\n",
       "      <td>896</td>\n",
       "      <td>3</td>\n",
       "      <td>female</td>\n",
       "      <td>22.0</td>\n",
       "      <td>1</td>\n",
       "      <td>1</td>\n",
       "      <td>12.2875</td>\n",
       "    </tr>\n",
       "    <tr>\n",
       "      <th>...</th>\n",
       "      <td>...</td>\n",
       "      <td>...</td>\n",
       "      <td>...</td>\n",
       "      <td>...</td>\n",
       "      <td>...</td>\n",
       "      <td>...</td>\n",
       "      <td>...</td>\n",
       "    </tr>\n",
       "    <tr>\n",
       "      <th>413</th>\n",
       "      <td>1305</td>\n",
       "      <td>3</td>\n",
       "      <td>male</td>\n",
       "      <td>NaN</td>\n",
       "      <td>0</td>\n",
       "      <td>0</td>\n",
       "      <td>8.0500</td>\n",
       "    </tr>\n",
       "    <tr>\n",
       "      <th>414</th>\n",
       "      <td>1306</td>\n",
       "      <td>1</td>\n",
       "      <td>female</td>\n",
       "      <td>39.0</td>\n",
       "      <td>0</td>\n",
       "      <td>0</td>\n",
       "      <td>108.9000</td>\n",
       "    </tr>\n",
       "    <tr>\n",
       "      <th>415</th>\n",
       "      <td>1307</td>\n",
       "      <td>3</td>\n",
       "      <td>male</td>\n",
       "      <td>38.5</td>\n",
       "      <td>0</td>\n",
       "      <td>0</td>\n",
       "      <td>7.2500</td>\n",
       "    </tr>\n",
       "    <tr>\n",
       "      <th>416</th>\n",
       "      <td>1308</td>\n",
       "      <td>3</td>\n",
       "      <td>male</td>\n",
       "      <td>NaN</td>\n",
       "      <td>0</td>\n",
       "      <td>0</td>\n",
       "      <td>8.0500</td>\n",
       "    </tr>\n",
       "    <tr>\n",
       "      <th>417</th>\n",
       "      <td>1309</td>\n",
       "      <td>3</td>\n",
       "      <td>male</td>\n",
       "      <td>NaN</td>\n",
       "      <td>1</td>\n",
       "      <td>1</td>\n",
       "      <td>22.3583</td>\n",
       "    </tr>\n",
       "  </tbody>\n",
       "</table>\n",
       "<p>418 rows × 7 columns</p>\n",
       "</div>"
      ],
      "text/plain": [
       "     PassengerId  Pclass     Sex   Age  SibSp  Parch      Fare\n",
       "0            892       3    male  34.5      0      0    7.8292\n",
       "1            893       3  female  47.0      1      0    7.0000\n",
       "2            894       2    male  62.0      0      0    9.6875\n",
       "3            895       3    male  27.0      0      0    8.6625\n",
       "4            896       3  female  22.0      1      1   12.2875\n",
       "..           ...     ...     ...   ...    ...    ...       ...\n",
       "413         1305       3    male   NaN      0      0    8.0500\n",
       "414         1306       1  female  39.0      0      0  108.9000\n",
       "415         1307       3    male  38.5      0      0    7.2500\n",
       "416         1308       3    male   NaN      0      0    8.0500\n",
       "417         1309       3    male   NaN      1      1   22.3583\n",
       "\n",
       "[418 rows x 7 columns]"
      ]
     },
     "execution_count": 19,
     "metadata": {},
     "output_type": "execute_result"
    }
   ],
   "source": [
    "test_pd = test_pd[['PassengerId', 'Pclass', 'Sex', 'Age', 'SibSp', 'Parch', 'Fare']]\n",
    "test_pd"
   ]
  },
  {
   "cell_type": "code",
   "execution_count": 20,
   "id": "collaborative-climate",
   "metadata": {
    "execution": {
     "iopub.execute_input": "2021-06-20T20:40:44.661882Z",
     "iopub.status.busy": "2021-06-20T20:40:44.661253Z",
     "iopub.status.idle": "2021-06-20T20:40:44.664727Z",
     "shell.execute_reply": "2021-06-20T20:40:44.664118Z",
     "shell.execute_reply.started": "2021-06-20T20:27:05.02995Z"
    },
    "papermill": {
     "duration": 0.041254,
     "end_time": "2021-06-20T20:40:44.664872",
     "exception": false,
     "start_time": "2021-06-20T20:40:44.623618",
     "status": "completed"
    },
    "tags": []
   },
   "outputs": [
    {
     "data": {
      "text/plain": [
       "418"
      ]
     },
     "execution_count": 20,
     "metadata": {},
     "output_type": "execute_result"
    }
   ],
   "source": [
    "test_pd = test_pd.fillna(test_pd['Age'].mean())\n",
    "len(test_pd)"
   ]
  },
  {
   "cell_type": "code",
   "execution_count": 21,
   "id": "marine-place",
   "metadata": {
    "execution": {
     "iopub.execute_input": "2021-06-20T20:40:44.733394Z",
     "iopub.status.busy": "2021-06-20T20:40:44.732536Z",
     "iopub.status.idle": "2021-06-20T20:40:44.736899Z",
     "shell.execute_reply": "2021-06-20T20:40:44.736316Z",
     "shell.execute_reply.started": "2021-06-20T20:27:22.295912Z"
    },
    "papermill": {
     "duration": 0.041581,
     "end_time": "2021-06-20T20:40:44.737065",
     "exception": false,
     "start_time": "2021-06-20T20:40:44.695484",
     "status": "completed"
    },
    "tags": []
   },
   "outputs": [
    {
     "data": {
      "text/plain": [
       "array([[0., 0., 1.],\n",
       "       [0., 0., 1.],\n",
       "       [0., 1., 0.],\n",
       "       [0., 0., 1.],\n",
       "       [0., 0., 1.],\n",
       "       [0., 0., 1.],\n",
       "       [0., 0., 1.],\n",
       "       [0., 1., 0.],\n",
       "       [0., 0., 1.],\n",
       "       [0., 0., 1.]], dtype=float32)"
      ]
     },
     "execution_count": 21,
     "metadata": {},
     "output_type": "execute_result"
    }
   ],
   "source": [
    "pclass = test_pd['Pclass'].to_numpy()\n",
    "as_categorical_pclass = to_categorical(pclass - 1, num_classes=3)\n",
    "as_categorical_pclass[:10]"
   ]
  },
  {
   "cell_type": "code",
   "execution_count": 22,
   "id": "sensitive-single",
   "metadata": {
    "execution": {
     "iopub.execute_input": "2021-06-20T20:40:44.805551Z",
     "iopub.status.busy": "2021-06-20T20:40:44.804680Z",
     "iopub.status.idle": "2021-06-20T20:40:44.809313Z",
     "shell.execute_reply": "2021-06-20T20:40:44.808775Z",
     "shell.execute_reply.started": "2021-06-20T20:27:25.491675Z"
    },
    "papermill": {
     "duration": 0.041772,
     "end_time": "2021-06-20T20:40:44.809457",
     "exception": false,
     "start_time": "2021-06-20T20:40:44.767685",
     "status": "completed"
    },
    "tags": []
   },
   "outputs": [
    {
     "data": {
      "text/plain": [
       "array([1, 0, 1, 1, 0, 1, 0, 1, 0, 1], dtype=int64)"
      ]
     },
     "execution_count": 22,
     "metadata": {},
     "output_type": "execute_result"
    }
   ],
   "source": [
    "sex = test_pd['Sex']\n",
    "as_binary_sex = sex.apply(sex_str_to_binary).to_numpy()\n",
    "as_binary_sex[:10]"
   ]
  },
  {
   "cell_type": "code",
   "execution_count": 23,
   "id": "increased-discussion",
   "metadata": {
    "execution": {
     "iopub.execute_input": "2021-06-20T20:40:44.883102Z",
     "iopub.status.busy": "2021-06-20T20:40:44.882439Z",
     "iopub.status.idle": "2021-06-20T20:40:44.887166Z",
     "shell.execute_reply": "2021-06-20T20:40:44.887651Z",
     "shell.execute_reply.started": "2021-06-20T20:27:26.122653Z"
    },
    "papermill": {
     "duration": 0.046482,
     "end_time": "2021-06-20T20:40:44.887813",
     "exception": false,
     "start_time": "2021-06-20T20:40:44.841331",
     "status": "completed"
    },
    "tags": []
   },
   "outputs": [
    {
     "data": {
      "text/plain": [
       "array([ 0.33519146,  1.19768079,  2.23266799, -0.18230214, -0.52729787,\n",
       "       -1.07929105,  0.0246953 , -0.25130129, -0.80329446, -0.59629702])"
      ]
     },
     "execution_count": 23,
     "metadata": {},
     "output_type": "execute_result"
    }
   ],
   "source": [
    "age_np = test_pd['Age'].to_numpy()\n",
    "age_np = (age_np - train_pd['Age'].mean()) / train_pd['Age'].std()\n",
    "age_np[:10]"
   ]
  },
  {
   "cell_type": "code",
   "execution_count": 24,
   "id": "metropolitan-showcase",
   "metadata": {
    "execution": {
     "iopub.execute_input": "2021-06-20T20:40:44.954013Z",
     "iopub.status.busy": "2021-06-20T20:40:44.953351Z",
     "iopub.status.idle": "2021-06-20T20:40:44.961672Z",
     "shell.execute_reply": "2021-06-20T20:40:44.961168Z",
     "shell.execute_reply.started": "2021-06-20T20:27:28.166306Z"
    },
    "papermill": {
     "duration": 0.042612,
     "end_time": "2021-06-20T20:40:44.961802",
     "exception": false,
     "start_time": "2021-06-20T20:40:44.919190",
     "status": "completed"
    },
    "tags": []
   },
   "outputs": [
    {
     "data": {
      "text/plain": [
       "array([-0.55232545,  0.52214373, -0.55232545, -0.55232545,  0.52214373,\n",
       "       -0.55232545, -0.55232545,  0.52214373, -0.55232545,  1.5966129 ])"
      ]
     },
     "execution_count": 24,
     "metadata": {},
     "output_type": "execute_result"
    }
   ],
   "source": [
    "sibsp = test_pd['SibSp']\n",
    "sibsp_np = sibsp.to_numpy()\n",
    "sibsp_np = (sibsp_np - train_pd['SibSp'].mean()) / train_pd['SibSp'].std()\n",
    "sibsp_np[:10]"
   ]
  },
  {
   "cell_type": "code",
   "execution_count": 25,
   "id": "embedded-palace",
   "metadata": {
    "execution": {
     "iopub.execute_input": "2021-06-20T20:40:45.033286Z",
     "iopub.status.busy": "2021-06-20T20:40:45.032570Z",
     "iopub.status.idle": "2021-06-20T20:40:45.036863Z",
     "shell.execute_reply": "2021-06-20T20:40:45.036256Z",
     "shell.execute_reply.started": "2021-06-20T20:27:28.858919Z"
    },
    "papermill": {
     "duration": 0.043543,
     "end_time": "2021-06-20T20:40:45.037024",
     "exception": false,
     "start_time": "2021-06-20T20:40:44.993481",
     "status": "completed"
    },
    "tags": []
   },
   "outputs": [
    {
     "data": {
      "text/plain": [
       "array([-0.50643136, -0.50643136, -0.50643136, -0.50643136,  0.66428009,\n",
       "       -0.50643136, -0.50643136,  0.66428009, -0.50643136, -0.50643136])"
      ]
     },
     "execution_count": 25,
     "metadata": {},
     "output_type": "execute_result"
    }
   ],
   "source": [
    "parch = test_pd['Parch']\n",
    "parch = parch.to_numpy()\n",
    "parch = (parch - train_pd['Parch'].mean()) / train_pd['Parch'].std()\n",
    "parch[:10]"
   ]
  },
  {
   "cell_type": "code",
   "execution_count": 26,
   "id": "crucial-shaft",
   "metadata": {
    "execution": {
     "iopub.execute_input": "2021-06-20T20:40:45.105114Z",
     "iopub.status.busy": "2021-06-20T20:40:45.104478Z",
     "iopub.status.idle": "2021-06-20T20:40:45.112613Z",
     "shell.execute_reply": "2021-06-20T20:40:45.112084Z",
     "shell.execute_reply.started": "2021-06-20T20:27:30.723935Z"
    },
    "papermill": {
     "duration": 0.043112,
     "end_time": "2021-06-20T20:40:45.112741",
     "exception": false,
     "start_time": "2021-06-20T20:40:45.069629",
     "status": "completed"
    },
    "tags": []
   },
   "outputs": [
    {
     "data": {
      "text/plain": [
       "array([-0.5050762 , -0.52073962, -0.4699733 , -0.48933534, -0.42085985,\n",
       "       -0.47870983, -0.50885416, -0.10516422, -0.51641008, -0.1967797 ])"
      ]
     },
     "execution_count": 26,
     "metadata": {},
     "output_type": "execute_result"
    }
   ],
   "source": [
    "fare = test_pd['Fare'].to_numpy()\n",
    "fare = (fare - train_pd['Fare'].mean()) / train_pd['Fare'].std()\n",
    "fare[:10]"
   ]
  },
  {
   "cell_type": "code",
   "execution_count": 27,
   "id": "expected-poison",
   "metadata": {
    "execution": {
     "iopub.execute_input": "2021-06-20T20:40:45.186821Z",
     "iopub.status.busy": "2021-06-20T20:40:45.186042Z",
     "iopub.status.idle": "2021-06-20T20:40:45.189381Z",
     "shell.execute_reply": "2021-06-20T20:40:45.189853Z",
     "shell.execute_reply.started": "2021-06-20T20:27:33.499017Z"
    },
    "papermill": {
     "duration": 0.044627,
     "end_time": "2021-06-20T20:40:45.190058",
     "exception": false,
     "start_time": "2021-06-20T20:40:45.145431",
     "status": "completed"
    },
    "tags": []
   },
   "outputs": [
    {
     "data": {
      "text/plain": [
       "array([[ 0.        ,  0.        ,  1.        , ..., -0.55232545,\n",
       "        -0.50643136, -0.5050762 ],\n",
       "       [ 0.        ,  0.        ,  1.        , ...,  0.52214373,\n",
       "        -0.50643136, -0.52073962],\n",
       "       [ 0.        ,  1.        ,  0.        , ..., -0.55232545,\n",
       "        -0.50643136, -0.4699733 ],\n",
       "       ...,\n",
       "       [ 0.        ,  0.        ,  1.        , ..., -0.55232545,\n",
       "        -0.50643136, -0.51601717],\n",
       "       [ 0.        ,  0.        ,  1.        , ..., -0.55232545,\n",
       "        -0.50643136, -0.50090534],\n",
       "       [ 0.        ,  0.        ,  1.        , ...,  0.52214373,\n",
       "         0.66428009, -0.23062454]])"
      ]
     },
     "execution_count": 27,
     "metadata": {},
     "output_type": "execute_result"
    }
   ],
   "source": [
    "test_X = np.concatenate((as_categorical_pclass, \n",
    "                as_binary_sex.reshape(-1, 1),\n",
    "                age_np.reshape(-1, 1),\n",
    "                sibsp_np.reshape(-1,1),\n",
    "                parch.reshape(-1,1),\n",
    "                fare.reshape(-1,1)), axis=1)\n",
    "test_X"
   ]
  },
  {
   "cell_type": "code",
   "execution_count": 31,
   "id": "expected-favorite",
   "metadata": {
    "execution": {
     "iopub.execute_input": "2021-06-20T20:40:45.259543Z",
     "iopub.status.busy": "2021-06-20T20:40:45.258539Z",
     "iopub.status.idle": "2021-06-20T20:40:45.266068Z",
     "shell.execute_reply": "2021-06-20T20:40:45.265551Z",
     "shell.execute_reply.started": "2021-06-20T20:27:41.3133Z"
    },
    "papermill": {
     "duration": 0.043565,
     "end_time": "2021-06-20T20:40:45.266226",
     "exception": false,
     "start_time": "2021-06-20T20:40:45.222661",
     "status": "completed"
    },
    "tags": []
   },
   "outputs": [],
   "source": [
    "predictions = model.predict(test_X)\n",
    "passenger_ids = test_pd['PassengerId'].to_numpy()\n",
    "sub_df = pd.DataFrame({'PassengerId':passenger_ids, 'Survived':predictions})"
   ]
  },
  {
   "cell_type": "code",
   "execution_count": 33,
   "id": "subtle-portland",
   "metadata": {
    "papermill": {
     "duration": 0.032874,
     "end_time": "2021-06-20T20:40:45.497474",
     "exception": false,
     "start_time": "2021-06-20T20:40:45.464600",
     "status": "completed"
    },
    "tags": []
   },
   "outputs": [
    {
     "data": {
      "text/html": [
       "<div>\n",
       "<style scoped>\n",
       "    .dataframe tbody tr th:only-of-type {\n",
       "        vertical-align: middle;\n",
       "    }\n",
       "\n",
       "    .dataframe tbody tr th {\n",
       "        vertical-align: top;\n",
       "    }\n",
       "\n",
       "    .dataframe thead th {\n",
       "        text-align: right;\n",
       "    }\n",
       "</style>\n",
       "<table border=\"1\" class=\"dataframe\">\n",
       "  <thead>\n",
       "    <tr style=\"text-align: right;\">\n",
       "      <th></th>\n",
       "      <th>PassengerId</th>\n",
       "      <th>Survived</th>\n",
       "    </tr>\n",
       "  </thead>\n",
       "  <tbody>\n",
       "    <tr>\n",
       "      <th>0</th>\n",
       "      <td>892</td>\n",
       "      <td>0</td>\n",
       "    </tr>\n",
       "    <tr>\n",
       "      <th>1</th>\n",
       "      <td>893</td>\n",
       "      <td>0</td>\n",
       "    </tr>\n",
       "    <tr>\n",
       "      <th>2</th>\n",
       "      <td>894</td>\n",
       "      <td>0</td>\n",
       "    </tr>\n",
       "    <tr>\n",
       "      <th>3</th>\n",
       "      <td>895</td>\n",
       "      <td>0</td>\n",
       "    </tr>\n",
       "    <tr>\n",
       "      <th>4</th>\n",
       "      <td>896</td>\n",
       "      <td>1</td>\n",
       "    </tr>\n",
       "    <tr>\n",
       "      <th>...</th>\n",
       "      <td>...</td>\n",
       "      <td>...</td>\n",
       "    </tr>\n",
       "    <tr>\n",
       "      <th>413</th>\n",
       "      <td>1305</td>\n",
       "      <td>0</td>\n",
       "    </tr>\n",
       "    <tr>\n",
       "      <th>414</th>\n",
       "      <td>1306</td>\n",
       "      <td>1</td>\n",
       "    </tr>\n",
       "    <tr>\n",
       "      <th>415</th>\n",
       "      <td>1307</td>\n",
       "      <td>0</td>\n",
       "    </tr>\n",
       "    <tr>\n",
       "      <th>416</th>\n",
       "      <td>1308</td>\n",
       "      <td>0</td>\n",
       "    </tr>\n",
       "    <tr>\n",
       "      <th>417</th>\n",
       "      <td>1309</td>\n",
       "      <td>0</td>\n",
       "    </tr>\n",
       "  </tbody>\n",
       "</table>\n",
       "<p>418 rows × 2 columns</p>\n",
       "</div>"
      ],
      "text/plain": [
       "     PassengerId  Survived\n",
       "0            892         0\n",
       "1            893         0\n",
       "2            894         0\n",
       "3            895         0\n",
       "4            896         1\n",
       "..           ...       ...\n",
       "413         1305         0\n",
       "414         1306         1\n",
       "415         1307         0\n",
       "416         1308         0\n",
       "417         1309         0\n",
       "\n",
       "[418 rows x 2 columns]"
      ]
     },
     "execution_count": 33,
     "metadata": {},
     "output_type": "execute_result"
    }
   ],
   "source": [
    "sub_df"
   ]
  },
  {
   "cell_type": "markdown",
   "id": "edd1449d",
   "metadata": {},
   "source": [
    "# ---------AMBRISH------------"
   ]
  }
 ],
 "metadata": {
  "kernelspec": {
   "display_name": "Python 3 (ipykernel)",
   "language": "python",
   "name": "python3"
  },
  "language_info": {
   "codemirror_mode": {
    "name": "ipython",
    "version": 3
   },
   "file_extension": ".py",
   "mimetype": "text/x-python",
   "name": "python",
   "nbconvert_exporter": "python",
   "pygments_lexer": "ipython3",
   "version": "3.9.13"
  },
  "papermill": {
   "default_parameters": {},
   "duration": 18.911539,
   "end_time": "2021-06-20T20:40:47.070741",
   "environment_variables": {},
   "exception": null,
   "input_path": "__notebook__.ipynb",
   "output_path": "__notebook__.ipynb",
   "parameters": {},
   "start_time": "2021-06-20T20:40:28.159202",
   "version": "2.3.3"
  }
 },
 "nbformat": 4,
 "nbformat_minor": 5
}
